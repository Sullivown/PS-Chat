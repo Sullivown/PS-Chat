{
 "cells": [
  {
   "cell_type": "code",
   "execution_count": 1,
   "id": "d6aeeebc",
   "metadata": {},
   "outputs": [],
   "source": [
    "from neo4j import GraphDatabase, basic_auth\n",
    "from neo4j.exceptions import CypherSyntaxError\n",
    "from pyvis.network import Network\n",
    "import networkx as nx\n",
    "import re"
   ]
  },
  {
   "cell_type": "markdown",
   "id": "e71c1b8c",
   "metadata": {},
   "source": [
    "# Part 1. Summarise the graphs"
   ]
  },
  {
   "cell_type": "code",
   "execution_count": 2,
   "id": "a255f887",
   "metadata": {},
   "outputs": [
    {
     "name": "stdout",
     "output_type": "stream",
     "text": [
      "Warning: When  cdn_resources is 'local' jupyter notebook has issues displaying graphics on chrome/safari. Use cdn_resources='in_line' or cdn_resources='remote' if you have issues viewing graphics in a notebook.\n",
      "graph.html\n"
     ]
    },
    {
     "data": {
      "text/html": [
       "\n",
       "        <iframe\n",
       "            width=\"100%\"\n",
       "            height=\"600px\"\n",
       "            src=\"graph.html\"\n",
       "            frameborder=\"0\"\n",
       "            allowfullscreen\n",
       "            \n",
       "        ></iframe>\n",
       "        "
      ],
      "text/plain": [
       "<IPython.lib.display.IFrame at 0x14c8a62c0>"
      ]
     },
     "execution_count": 2,
     "metadata": {},
     "output_type": "execute_result"
    }
   ],
   "source": [
    "# Load the graph\n",
    "driver = GraphDatabase.driver(\n",
    "    \"neo4j+s://38951e74.databases.neo4j.io\", \n",
    "    auth=basic_auth(\"neo4j\", \"kU3RG9BdAP5lCpqCsLyuLx_0ICL6L8y2WHj6LmdextU\"))\n",
    "\n",
    "# Initialize an empty directed graph\n",
    "G = nx.DiGraph()\n",
    "\n",
    "# Run a Cypher query to get your data\n",
    "with driver.session() as session:\n",
    "    result = session.run(\"MATCH (n)-[r]->(m) RETURN n, r, m\") # Adjust your query as needed\n",
    "\n",
    "    for record in result:\n",
    "        # For each record, add a node for n and m to the graph, and an edge for r\n",
    "        n = record[\"n\"][\"name\"] # Adjust as needed\n",
    "        m = record[\"m\"][\"name\"] # Adjust as needed\n",
    "        r_type = record[\"r\"].type # Adjust as needed\n",
    "        G.add_node(n)\n",
    "        G.add_node(m)\n",
    "        G.add_edge(n, m,name=r_type)\n",
    "\n",
    "# Close the driver connection\n",
    "driver.close()\n",
    "\n",
    "# Convert the networkx graph into a pyvis network\n",
    "net = Network(notebook=True)\n",
    "net.from_nx(G)\n",
    "\n",
    "# Plot the graph\n",
    "net.show(\"graph.html\")"
   ]
  },
  {
   "cell_type": "code",
   "execution_count": 3,
   "id": "0b864b1d",
   "metadata": {},
   "outputs": [
    {
     "data": {
      "application/vnd.jupyter.widget-view+json": {
       "model_id": "6970b66b49c54c5eb801ecec9ad1043c",
       "version_major": 2,
       "version_minor": 0
      },
      "text/plain": [
       "Computing transition probabilities:   0%|          | 0/91 [00:00<?, ?it/s]"
      ]
     },
     "metadata": {},
     "output_type": "display_data"
    },
    {
     "name": "stderr",
     "output_type": "stream",
     "text": [
      "\r",
      "Generating walks (CPU: 2):   0%|          | 0/2 [00:00<?, ?it/s]\r",
      "Generating walks (CPU: 2): 100%|██████████| 2/2 [00:00<00:00, 2728.89it/s]\n",
      "\r",
      "Generating walks (CPU: 1):   0%|          | 0/3 [00:00<?, ?it/s]\r",
      "Generating walks (CPU: 1): 100%|██████████| 3/3 [00:00<00:00, 3416.48it/s]\n"
     ]
    }
   ],
   "source": [
    "# Sample the walks as Node2Vec behavior\n",
    "from node2vec import Node2Vec\n",
    "node2vec = Node2Vec(G, dimensions=128, walk_length=40, num_walks=5, workers=2)\n",
    "walks = node2vec.walks\n"
   ]
  },
  {
   "cell_type": "code",
   "execution_count": 4,
   "id": "219d111c",
   "metadata": {},
   "outputs": [],
   "source": [
    "# Format the walk to sentences\n",
    "def complete_walk(G, walk):\n",
    "    complete_walk = []\n",
    "    for i in range(len(walk) - 1):\n",
    "        A = walk[i]\n",
    "        B = walk[i+1]\n",
    "        edge_name = G[A][B]['name']  # Get the edge name from A to B\n",
    "        complete_walk.append(A)\n",
    "        complete_walk.append(edge_name)  # Add the edge name to the walk\n",
    "        if i == len(walk) - 2:  # If B is the last node in the walk\n",
    "            complete_walk.append(B)\n",
    "    return complete_walk\n",
    "\n",
    "def format_walk_to_text(walk):\n",
    "\n",
    "    sentences = []\n",
    "    i = 0\n",
    "    while i < len(walk)-2:\n",
    "        sentences.append(f\"{walk[i]} {walk[i+1]} {walk[i+2]}. \")\n",
    "        i = i +2\n",
    "    text = \"\".join(sentences)\n",
    "    return text"
   ]
  },
  {
   "cell_type": "code",
   "execution_count": 5,
   "id": "13ef96b8",
   "metadata": {},
   "outputs": [
    {
     "data": {
      "text/plain": [
       "'Acquisitions comprised_of Brexit_Programme. Brexit_Programme comprised_of human_capital_management_project. human_capital_management_project improved_by Rescope_large_project_which_has_failed_to_deliver_in_2020. Rescope_large_project_which_has_failed_to_deliver_in_2020 enables Reshaping_the_Asset_and_Cost_Base_. Reshaping_the_Asset_and_Cost_Base_ enables Capacity_and_Capability_theme. '"
      ]
     },
     "execution_count": 5,
     "metadata": {},
     "output_type": "execute_result"
    }
   ],
   "source": [
    "# Now process the walks with the new function\n",
    "all_walks_sentences = []\n",
    "for walk in walks:\n",
    "    comp_walk = complete_walk(G, walk)\n",
    "    walk_sentence = format_walk_to_text(comp_walk)\n",
    "    if len(walk_sentence)>0:\n",
    "        all_walks_sentences.append(walk_sentence)\n",
    "all_walks_sentences[0]"
   ]
  },
  {
   "cell_type": "code",
   "execution_count": 6,
   "id": "48592da4",
   "metadata": {},
   "outputs": [
    {
     "name": "stdout",
     "output_type": "stream",
     "text": [
      "Acquisitions comprised_of Brexit_Programme. Brexit_Programme comprised_of human_capital_management_project. human_capital_management_project improved_by Rescope_large_project_which_has_failed_to_deliver_in_2020. Rescope_large_project_which_has_failed_to_deliver_in_2020 enables Reshaping_the_Asset_and_Cost_Base_. Reshaping_the_Asset_and_Cost_Base_ enables Capacity_and_Capability_theme. \n",
      "\n",
      "4._Marketing depends_on 3._Logistics. 3._Logistics operated_by HomeCare_division. HomeCare_division holds Busi\n"
     ]
    }
   ],
   "source": [
    "# Transfer the list to document\n",
    "input_text = \"\\n\\n\".join(all_walks_sentences)\n",
    "print(input_text[:500])"
   ]
  },
  {
   "cell_type": "code",
   "execution_count": 7,
   "id": "1ffff629",
   "metadata": {},
   "outputs": [],
   "source": [
    "# Use OpenAI to summarise the document\n",
    "from dotenv import load_dotenv\n",
    "from langchain.chat_models import ChatOpenAI\n",
    "import os\n",
    "from langchain.chains.question_answering import load_qa_chain\n",
    "\n",
    "load_dotenv()\n",
    "openai_key = os.getenv('OPENAI_KEY')\n",
    "os.environ['OPENAI_API_KEY'] = openai_key\n",
    "\n",
    "chat_model = ChatOpenAI(temperature=0, model=\"gpt-3.5-turbo-16k\")\n"
   ]
  },
  {
   "cell_type": "code",
   "execution_count": 8,
   "id": "4edfa18d",
   "metadata": {},
   "outputs": [
    {
     "name": "stdout",
     "output_type": "stream",
     "text": [
      "The knowledge graph provided consists of various interconnected nodes and edges that represent different projects and their dependencies within a business transformation portfolio. The graph includes projects related to acquisitions, divestments, digital transformation, logistics, marketing, and more.\n",
      "\n",
      "One key theme that emerges from the graph is the importance of agility and innovation in response to market changes, particularly in the context of Brexit. The Brexit Programme is a central project that enables agility and innovation, which in turn drive the overall business transformation. The graph also highlights the significance of partnerships, quality, and service in achieving success.\n",
      "\n",
      "Another important aspect is the focus on value and purpose. Projects related to reshaping the asset and cost base, as well as those aimed at improving tangible and intangible assets, contribute to the overall value theme. Additionally, the graph emphasizes the need for responsible and sustainable living, as well as compliance with regulatory standards.\n",
      "\n",
      "Overall, the knowledge graph showcases the complex interdependencies between different projects and themes within a business transformation portfolio. It highlights the importance of agility, innovation, partnerships, and value in driving successful transformation initiatives.\n"
     ]
    }
   ],
   "source": [
    "query = f\"\"\"\n",
    "        You are a professional project manager.\n",
    "        Now I have the input text {input_text} where each paragraph is sampled \n",
    "        the nodes and egdes from a knowlegde graph from documents. \n",
    "        There are some typos in the input context. \n",
    "        Can you wirte a good summary of this knowlegde graph for around 200 words\n",
    "        \"\"\"\n",
    "print(chat_model.predict (query))"
   ]
  },
  {
   "cell_type": "markdown",
   "id": "ef477c66",
   "metadata": {},
   "source": [
    "# Part 2. Text to graph"
   ]
  },
  {
   "cell_type": "code",
   "execution_count": 9,
   "id": "7327babd",
   "metadata": {},
   "outputs": [],
   "source": [
    "# Write a customized prompt templates to extract keywords from the document\n",
    "\n",
    "# Load the pdf \n",
    "from langchain.document_loaders import PyPDFLoader\n",
    "from langchain.text_splitter import RecursiveCharacterTextSplitter\n",
    "\n",
    "file_path = \"IPA_Cost_Estimating_Guidance.pdf\"\n",
    "my_loader = PyPDFLoader(file_path)\n",
    "documents = my_loader.load()\n",
    "text_splitter = RecursiveCharacterTextSplitter(chunk_size = 1000, chunk_overlap = 0)\n",
    "docs = text_splitter.split_documents(documents)"
   ]
  },
  {
   "cell_type": "code",
   "execution_count": 10,
   "id": "1d068d06",
   "metadata": {},
   "outputs": [],
   "source": [
    "all_docs_contents = \"\"\n",
    "document_title = \"Cost Estimating Guidance A best practice approach for infrastructure projects and programmes\"\n",
    "for doc in docs:\n",
    "    all_docs_contents+=doc.page_content\n",
    "\n",
    "\n",
    "half_length = len(all_docs_contents) // 2  # Use floor division to get the integer part\n",
    "first_half_contents = all_docs_contents[:half_length]\n",
    "rest_half_contents= all_docs_contents[half_length:]"
   ]
  },
  {
   "cell_type": "markdown",
   "id": "8ebb1002",
   "metadata": {},
   "source": [
    "# Get the important context"
   ]
  },
  {
   "cell_type": "code",
   "execution_count": 11,
   "id": "02fed5b4",
   "metadata": {},
   "outputs": [
    {
     "data": {
      "text/plain": [
       "'Cost estimating process guides project delivery.\\nCost estimate is a key factor in project success.\\nCost estimate evolves over time as project matures.\\nCost estimate should be presented as a range.\\nCost estimate is not a single figure.\\nCost estimate is linked to project scope and schedule.\\nCost estimate should be evidence-based.\\nCost estimate should be transparent and robust.\\nCost estimate should be reviewed and assured.\\nCost estimate should be owned by project leadership.\\nCost estimate supports decision-making.\\nCost estimate is part of project discipline.\\nCost estimate requires qualified and experienced personnel.\\nCost estimate should be based on clear assumptions.\\nCost estimate should be continuously improved.\\nCost estimate should be risk-adjusted.\\nCost estimate should be supported by data and evidence.\\nCost estimate should be reviewed and validated.\\nCost estimate should be produced using appropriate methodology.\\nCost estimate should be based on accurate and reliable data.\\nCost estimate should be supported by benchmarking.\\nCost estimate should be documented with clear assumptions.\\nCost estimate should be produced by a collaborative team.\\nCost estimate should be reviewed and assured by independent parties.\\nCost estimate should be based on a standard cost breakdown structure.\\nCost estimate should be based on a clear project brief.\\nCost estimate should be produced by the right team.\\nCost estimate should be supported by data integrity.\\nCost estimate methodology should be selected based on project maturity.\\nCost estimate methodology should be deterministic or probabilistic.\\nCost estimate methodology should be top-down or bottom-up.'"
      ]
     },
     "execution_count": 11,
     "metadata": {},
     "output_type": "execute_result"
    }
   ],
   "source": [
    "query = f\"\"\"\n",
    "        You are a professional project manager.\n",
    "        Now I give you a document context as {first_half_contents} and the document title is {document_title}.\n",
    "        Can you please fetch the important sentences are relating to important terminologies from the document according to the title \n",
    "        Then modify each of these sentence into format as Noun. verb Noun. (example format: Dog chases cat.)\n",
    "        Please output these sentences WITHOUT making any other information. \n",
    "        \"\"\"\n",
    "first_half_sentences = chat_model.predict (query)\n",
    "first_half_sentences"
   ]
  },
  {
   "cell_type": "code",
   "execution_count": 12,
   "id": "49366fdc",
   "metadata": {},
   "outputs": [],
   "source": [
    "query = f\"\"\"\n",
    "        You are a professional project manager.\n",
    "        Now I give you a document context as {rest_half_contents} and the document title is {document_title}.\n",
    "        Can you please fetch the important sentences are relating to important terminologies from the document according to the title \n",
    "        Then modify each of these sentence into format as Noun. verb Noun. (example format: Dog chases cat.)\n",
    "        Please output these sentences WITHOUT making any other information.\n",
    "        \"\"\"\n",
    "rest_half_sentences = chat_model.predict (query)"
   ]
  },
  {
   "cell_type": "code",
   "execution_count": 13,
   "id": "eda68177",
   "metadata": {},
   "outputs": [
    {
     "data": {
      "text/plain": [
       "'Cost estimating process guides project delivery.\\nCost estimate is a key factor in project success.\\nCost estimate evolves over time as project matures.\\nCost estimate should be presented as a range.\\nCost estimate is not a single figure.\\nCost estimate is linked to project scope and schedule.\\nCost estimate should be evidence-based.\\nCost estimate should be transparent and robust.\\nCost estimate should be reviewed and assured.\\nCost estimate should be owned by project leadership.\\nCost estimate supports decision-making.\\nCost estimate is part of project discipline.\\nCost estimate requires qualified and experienced personnel.\\nCost estimate should be based on clear assumptions.\\nCost estimate should be continuously improved.\\nCost estimate should be risk-adjusted.\\nCost estimate should be supported by data and evidence.\\nCost estimate should be reviewed and validated.\\nCost estimate should be produced using appropriate methodology.\\nCost estimate should be based on accurate and reliable data.\\nCost estimate should be supported by benchmarking.\\nCost estimate should be documented with clear assumptions.\\nCost estimate should be produced by a collaborative team.\\nCost estimate should be reviewed and assured by independent parties.\\nCost estimate should be based on a standard cost breakdown structure.\\nCost estimate should be based on a clear project brief.\\nCost estimate should be produced by the right team.\\nCost estimate should be supported by data integrity.\\nCost estimate methodology should be selected based on project maturity.\\nCost estimate methodology should be deterministic or probabilistic.\\nCost estimate methodology should be top-down or bottom-up.\\nCost estimate informs decisions.\\nCost estimating team chooses between approaches.\\nProject size influences method.\\nComplexity influences method.\\nProject stage influences method.\\nObjectives influence method.\\nParametric cost estimating serves early calculations.\\nParametric cost estimating enables comparisons.\\nFirst principles cost estimating relies on complete data.\\nFirst principles cost estimating is best for FBC stage gate.\\nFirst principles cost estimating is best for medium/high design maturity.\\nFirst principles cost estimating is suitable for sensitivity analysis.\\nFirst principles cost estimating is suitable for identification of cost drivers.\\nFirst principles cost estimating is laborious.\\nAnalogy cost estimating is useful in repeatable projects.\\nAnalogy cost estimating is useful in calibration exercises.\\nAnalogy cost estimating is useful in validation exercises.\\nExpert opinion is adequate for novel projects.\\nExpert opinion is adequate for complex projects.\\nExpert opinion is adequate for early stages.\\nExpert opinion is adequate for option comparison.\\nScenario-based modeling provides rigorous cost estimates.\\nScenario-based modeling is suitable for complex/novel projects.\\nScenario-based modeling is suitable for early stages.\\nScenario-based modeling serves option comparison analysis.\\nMethod of moments calculates combined probability of risks.\\nMethod of moments is useful for repetitive projects.\\nMethod of moments is useful for articulating combined probability.\\nQuantitative risk analysis is common for late stages.\\nQuantitative risk analysis relies on complete data sets.\\nQuantitative risk analysis is sensitive to input data quality.\\nSBM was used for decommissioning project planning.\\nSBM provided rigorous and reliable cost estimates.\\nSBM was suitable for complex/novel projects.\\nSBM was suitable for early stages.\\nSBM built on explicit assumptions.\\nSBM served option comparison analysis.\\nBase cost estimate is critical to review and understand implications.\\nBase cost estimate is consistent with Level 0 breakdown.\\nBase cost estimate is aligned to cost breakdown structure.\\nBase cost estimate granularity depends on design maturity.\\nEscalation is base dated to a given point in time.\\nEscalation accounts for inflation between current and historical/future date.\\nUncertainty is driven by decisions, lack of data maturity, and bias/error.\\nDecisions introduce variability.\\nLack of data maturity is based on generic or extrapolated information.\\nBias/error introduces assumptions that lean towards inaccurate values.\\nRisk cost estimating methods include scenario-based modeling, method of moments, and quantitative risk analysis.\\nOpportunities have positive effects on objectives.\\nMaterial/critical risks compromise project continuity.\\nContingency addresses risks that materialize.\\nCost estimate report supports project decisions.\\nCost estimate report includes rationale, methodology, evidence, assumptions, costs, risks, and recommendations.\\nAnticipated Final Cost is the target out-turn cost.\\nAnticipated Final Cost includes base cost estimate, uncertainty, and risk allowance.\\nAnticipated Final Cost is adjusted for probability distribution.\\nCost estimate range depends on maturity of input data.\\nCost estimate range is evaluated against target thresholds.\\nCost estimate range informs budget and decision-making.\\nReview and assurance plan clarifies inputs, outputs, and interactions.\\nReview and assurance plan identifies types of reviews.\\nSign-off process clarifies and challenges cost estimate data.\\nSign-off process validates relationship with scope, schedule, options, and commercial strategy.\\nCost estimate supports stage gate milestones.\\nCost estimate supports budget and decision-making.\\nCost estimate supports project success.'"
      ]
     },
     "execution_count": 13,
     "metadata": {},
     "output_type": "execute_result"
    }
   ],
   "source": [
    "all_sentences = first_half_sentences + \"\\n\" + rest_half_sentences\n",
    "all_sentences"
   ]
  },
  {
   "cell_type": "markdown",
   "id": "a12ad463",
   "metadata": {},
   "source": [
    "# Return kownledge triples"
   ]
  },
  {
   "cell_type": "code",
   "execution_count": 14,
   "id": "89fd0b37",
   "metadata": {},
   "outputs": [
    {
     "data": {
      "text/plain": [
       "'[\\n  (\"Cost estimating process\", \"guides\", \"project delivery\"),\\n  (\"Cost estimate\", \"is\", \"key factor\"),\\n  (\"Cost estimate\", \"evolves\", \"over time\"),\\n  (\"Cost estimate\", \"should be presented\", \"as range\"),\\n  (\"Cost estimate\", \"is\", \"not single figure\"),\\n  (\"Cost estimate\", \"is linked\", \"to project scope\"),\\n  (\"Cost estimate\", \"should be\", \"evidence-based\"),\\n  (\"Cost estimate\", \"should be\", \"transparent and robust\"),\\n  (\"Cost estimate\", \"should be reviewed\", \"and assured\"),\\n  (\"Cost estimate\", \"should be owned\", \"by project leadership\"),\\n  (\"Cost estimate\", \"supports\", \"decision-making\"),\\n  (\"Cost estimate\", \"is part\", \"of project discipline\"),\\n  (\"Cost estimate\", \"requires\", \"qualified and experienced personnel\"),\\n  (\"Cost estimate\", \"should be based\", \"on clear assumptions\"),\\n  (\"Cost estimate\", \"should be continuously\", \"improved\"),\\n  (\"Cost estimate\", \"should be\", \"risk-adjusted\"),\\n  (\"Cost estimate\", \"should be supported\", \"by data and evidence\"),\\n  (\"Cost estimate\", \"should be reviewed\", \"and validated\"),\\n  (\"Cost estimate\", \"should be produced\", \"using appropriate methodology\"),\\n  (\"Cost estimate\", \"should be based\", \"on accurate and reliable data\"),\\n  (\"Cost estimate\", \"should be supported\", \"by benchmarking\"),\\n  (\"Cost estimate\", \"should be documented\", \"with clear assumptions\"),\\n  (\"Cost estimate\", \"should be produced\", \"by collaborative team\"),\\n  (\"Cost estimate\", \"should be reviewed\", \"and assured by independent parties\"),\\n  (\"Cost estimate\", \"should be based\", \"on standard cost breakdown structure\"),\\n  (\"Cost estimate\", \"should be based\", \"on clear project brief\"),\\n  (\"Cost estimate\", \"should be produced\", \"by right team\"),\\n  (\"Cost estimate\", \"should be supported\", \"by data integrity\"),\\n  (\"Cost estimate methodology\", \"should be selected\", \"based on project maturity\"),\\n  (\"Cost estimate methodology\", \"should be\", \"deterministic or probabilistic\"),\\n  (\"Cost estimate methodology\", \"should be\", \"top-down or bottom-up\"),\\n  (\"Cost estimate\", \"informs\", \"decisions\"),\\n  (\"Cost estimating team\", \"chooses\", \"between approaches\"),\\n  (\"Project size\", \"influences\", \"method\"),\\n  (\"Complexity\", \"influences\", \"method\"),\\n  (\"Project stage\", \"influences\", \"method\"),\\n  (\"Objectives\", \"influence\", \"method\"),\\n  (\"Parametric cost estimating\", \"serves\", \"early calculations\"),\\n  (\"Parametric cost estimating\", \"enables\", \"comparisons\"),\\n  (\"First principles cost estimating\", \"relies\", \"on complete data\"),\\n  (\"First principles cost estimating\", \"is best\", \"for FBC stage gate\"),\\n  (\"First principles cost estimating\", \"is best\", \"for medium/high design maturity\"),\\n  (\"First principles cost estimating\", \"is suitable\", \"for sensitivity analysis\"),\\n  (\"First principles cost estimating\", \"is suitable\", \"for identification of cost drivers\"),\\n  (\"First principles cost estimating\", \"is\", \"laborious\"),\\n  (\"Analogy cost estimating\", \"is useful\", \"in repeatable projects\"),\\n  (\"Analogy cost estimating\", \"is useful\", \"in calibration exercises\"),\\n  (\"Analogy cost estimating\", \"is useful\", \"in validation exercises\"),\\n  (\"Expert opinion\", \"is adequate\", \"for novel projects\"),\\n  (\"Expert opinion\", \"is adequate\", \"for complex projects\"),\\n  (\"Expert opinion\", \"is adequate\", \"for early stages\"),\\n  (\"Expert opinion\", \"is adequate\", \"for option comparison\"),\\n  (\"Scenario-based modeling\", \"provides\", \"rigorous cost estimates\"),\\n  (\"Scenario-based modeling\", \"is suitable\", \"for complex/novel projects\"),\\n  (\"Scenario-based modeling\", \"is suitable\", \"for early stages\"),\\n  (\"Scenario-based modeling\", \"serves\", \"option comparison analysis\"),\\n  (\"Method of moments\", \"calculates\", \"combined probability of risks\"),\\n  (\"Method of moments\", \"is useful\", \"for repetitive projects\"),\\n  (\"Method of moments\", \"is useful\", \"for articulating combined probability\"),\\n  (\"Quantitative risk analysis\", \"is common\", \"for late stages\"),\\n  (\"Quantitative risk analysis\", \"relies\", \"on complete data sets\"),\\n  (\"Quantitative risk analysis\", \"is sensitive\", \"to input data quality\"),\\n  (\"SBM\", \"was used\", \"for decommissioning project planning\"),\\n  (\"SBM\", \"provided\", \"rigorous and reliable cost estimates\"),\\n  (\"SBM\", \"was suitable\", \"for complex/novel projects\"),\\n  (\"SBM\", \"was suitable\", \"for early stages\"),\\n  (\"SBM\", \"built\", \"on explicit assumptions\"),\\n  (\"SBM\", \"served\", \"option comparison analysis\"),\\n  (\"Base cost estimate\", \"is critical\", \"to review and understand implications\"),\\n  (\"Base cost estimate\", \"is consistent\", \"with Level 0 breakdown\"),\\n  (\"Base cost estimate\", \"is aligned\", \"to cost breakdown structure\"),\\n  (\"Base cost estimate granularity\", \"depends\", \"on design maturity\"),\\n  (\"Escalation\", \"is base dated\", \"to given point in time\"),\\n  (\"Escalation\", \"accounts\", \"for inflation between current and historical/future date\"),\\n  (\"Uncertainty\", \"is driven\", \"by decisions, lack of data maturity, and bias/error\"),\\n  (\"Decisions\", \"introduce\", \"variability\"),\\n  (\"Lack of data maturity\", \"is based\", \"on generic or extrapolated information\"),\\n  (\"Bias/error\", \"introduces\", \"assumptions that lean towards inaccurate values\"),\\n  (\"Risk cost estimating methods\", \"include\", \"scenario-based modeling, method of moments, and quantitative risk analysis\"),\\n  (\"Opportunities\", \"have\", \"positive effects on objectives\"),\\n  (\"Material/critical risks\", \"compromise\", \"project continuity\"),\\n  (\"Contingency\", \"addresses\", \"risks that materialize\"),\\n  (\"Cost estimate report\", \"supports\", \"project decisions\"),\\n  (\"Cost estimate report\", \"includes\", \"rationale, methodology, evidence, assumptions, costs, risks, and recommendations\"),\\n  (\"Anticipated Final Cost\", \"is\", \"target out-turn cost\"),\\n  (\"Anticipated Final Cost\", \"includes\", \"base cost estimate, uncertainty, and risk allowance\"),\\n  (\"Anticipated Final Cost\", \"is adjusted\", \"for probability distribution\"),\\n  (\"Cost estimate range\", \"depends\", \"on maturity of input data\"),\\n  (\"Cost estimate range\", \"is evaluated\", \"against target thresholds\"),\\n  (\"Cost estimate range\", \"informs\", \"budget and decision-making\"),\\n  (\"Review and assurance plan\", \"clarifies\", \"inputs, outputs, and interactions\"),\\n  (\"Review and assurance plan\", \"identifies\", \"types of reviews\"),\\n  (\"Sign-off process\", \"clarifies\", \"and challenges cost estimate data\"),\\n  (\"Sign-off process\", \"validates\", \"relationship with scope, schedule, options, and commercial strategy\"),\\n  (\"Cost estimate\", \"supports\", \"stage gate milestones\"),\\n  (\"Cost estimate\", \"supports\", \"budget and decision-making\"),\\n  (\"Cost estimate\", \"supports\", \"project success\")\\n]'"
      ]
     },
     "execution_count": 14,
     "metadata": {},
     "output_type": "execute_result"
    }
   ],
   "source": [
    "query = f\"\"\"\n",
    "        You are a professional project manager.\n",
    "        Now I give you a bunch of sentences {all_sentences}.\n",
    "        Each sentence should be roughly be Noun. verb Noun. format. \n",
    "        Can you output a list, where each item in the list in the format as (Noun, verb, Noun).\n",
    "        For example, if there is sentence like: Dog chases cat, you only return me (Dog, chases, cat) as one item.\n",
    "        Please output the list WITHOUT making any other information.\n",
    "        \"\"\"\n",
    "triples_list = chat_model.predict (query)\n",
    "triples_list"
   ]
  },
  {
   "cell_type": "code",
   "execution_count": 15,
   "id": "5f96b148",
   "metadata": {},
   "outputs": [
    {
     "name": "stdout",
     "output_type": "stream",
     "text": [
      "[('Cost estimating process', 'guides', 'project delivery'), ('Cost estimate', 'is', 'key factor'), ('Cost estimate', 'evolves', 'over time'), ('Cost estimate', 'should be presented', 'as range'), ('Cost estimate', 'is', 'not single figure'), ('Cost estimate', 'is linked', 'to project scope'), ('Cost estimate', 'should be', 'evidence-based'), ('Cost estimate', 'should be', 'transparent and robust'), ('Cost estimate', 'should be reviewed', 'and assured'), ('Cost estimate', 'should be owned', 'by project leadership'), ('Cost estimate', 'supports', 'decision-making'), ('Cost estimate', 'is part', 'of project discipline'), ('Cost estimate', 'requires', 'qualified and experienced personnel'), ('Cost estimate', 'should be based', 'on clear assumptions'), ('Cost estimate', 'should be continuously', 'improved'), ('Cost estimate', 'should be', 'risk-adjusted'), ('Cost estimate', 'should be supported', 'by data and evidence'), ('Cost estimate', 'should be reviewed', 'and validated'), ('Cost estimate', 'should be produced', 'using appropriate methodology'), ('Cost estimate', 'should be based', 'on accurate and reliable data'), ('Cost estimate', 'should be supported', 'by benchmarking'), ('Cost estimate', 'should be documented', 'with clear assumptions'), ('Cost estimate', 'should be produced', 'by collaborative team'), ('Cost estimate', 'should be reviewed', 'and assured by independent parties'), ('Cost estimate', 'should be based', 'on standard cost breakdown structure'), ('Cost estimate', 'should be based', 'on clear project brief'), ('Cost estimate', 'should be produced', 'by right team'), ('Cost estimate', 'should be supported', 'by data integrity'), ('Cost estimate methodology', 'should be selected', 'based on project maturity'), ('Cost estimate methodology', 'should be', 'deterministic or probabilistic'), ('Cost estimate methodology', 'should be', 'top-down or bottom-up'), ('Cost estimate', 'informs', 'decisions'), ('Cost estimating team', 'chooses', 'between approaches'), ('Project size', 'influences', 'method'), ('Complexity', 'influences', 'method'), ('Project stage', 'influences', 'method'), ('Objectives', 'influence', 'method'), ('Parametric cost estimating', 'serves', 'early calculations'), ('Parametric cost estimating', 'enables', 'comparisons'), ('First principles cost estimating', 'relies', 'on complete data'), ('First principles cost estimating', 'is best', 'for FBC stage gate'), ('First principles cost estimating', 'is best', 'for medium/high design maturity'), ('First principles cost estimating', 'is suitable', 'for sensitivity analysis'), ('First principles cost estimating', 'is suitable', 'for identification of cost drivers'), ('First principles cost estimating', 'is', 'laborious'), ('Analogy cost estimating', 'is useful', 'in repeatable projects'), ('Analogy cost estimating', 'is useful', 'in calibration exercises'), ('Analogy cost estimating', 'is useful', 'in validation exercises'), ('Expert opinion', 'is adequate', 'for novel projects'), ('Expert opinion', 'is adequate', 'for complex projects'), ('Expert opinion', 'is adequate', 'for early stages'), ('Expert opinion', 'is adequate', 'for option comparison'), ('Scenario-based modeling', 'provides', 'rigorous cost estimates'), ('Scenario-based modeling', 'is suitable', 'for complex/novel projects'), ('Scenario-based modeling', 'is suitable', 'for early stages'), ('Scenario-based modeling', 'serves', 'option comparison analysis'), ('Method of moments', 'calculates', 'combined probability of risks'), ('Method of moments', 'is useful', 'for repetitive projects'), ('Method of moments', 'is useful', 'for articulating combined probability'), ('Quantitative risk analysis', 'is common', 'for late stages'), ('Quantitative risk analysis', 'relies', 'on complete data sets'), ('Quantitative risk analysis', 'is sensitive', 'to input data quality'), ('SBM', 'was used', 'for decommissioning project planning'), ('SBM', 'provided', 'rigorous and reliable cost estimates'), ('SBM', 'was suitable', 'for complex/novel projects'), ('SBM', 'was suitable', 'for early stages'), ('SBM', 'built', 'on explicit assumptions'), ('SBM', 'served', 'option comparison analysis'), ('Base cost estimate', 'is critical', 'to review and understand implications'), ('Base cost estimate', 'is consistent', 'with Level 0 breakdown'), ('Base cost estimate', 'is aligned', 'to cost breakdown structure'), ('Base cost estimate granularity', 'depends', 'on design maturity'), ('Escalation', 'is base dated', 'to given point in time'), ('Escalation', 'accounts', 'for inflation between current and historical/future date'), ('Uncertainty', 'is driven', 'by decisions, lack of data maturity, and bias/error'), ('Decisions', 'introduce', 'variability'), ('Lack of data maturity', 'is based', 'on generic or extrapolated information'), ('Bias/error', 'introduces', 'assumptions that lean towards inaccurate values'), ('Risk cost estimating methods', 'include', 'scenario-based modeling, method of moments, and quantitative risk analysis'), ('Opportunities', 'have', 'positive effects on objectives'), ('Material/critical risks', 'compromise', 'project continuity'), ('Contingency', 'addresses', 'risks that materialize'), ('Cost estimate report', 'supports', 'project decisions'), ('Cost estimate report', 'includes', 'rationale, methodology, evidence, assumptions, costs, risks, and recommendations'), ('Anticipated Final Cost', 'is', 'target out-turn cost'), ('Anticipated Final Cost', 'includes', 'base cost estimate, uncertainty, and risk allowance'), ('Anticipated Final Cost', 'is adjusted', 'for probability distribution'), ('Cost estimate range', 'depends', 'on maturity of input data'), ('Cost estimate range', 'is evaluated', 'against target thresholds'), ('Cost estimate range', 'informs', 'budget and decision-making'), ('Review and assurance plan', 'clarifies', 'inputs, outputs, and interactions'), ('Review and assurance plan', 'identifies', 'types of reviews'), ('Sign-off process', 'clarifies', 'and challenges cost estimate data'), ('Sign-off process', 'validates', 'relationship with scope, schedule, options, and commercial strategy'), ('Cost estimate', 'supports', 'stage gate milestones'), ('Cost estimate', 'supports', 'budget and decision-making'), ('Cost estimate', 'supports', 'project success')]\n"
     ]
    }
   ],
   "source": [
    "import ast\n",
    "\n",
    "triples_list_for_graph = ast.literal_eval(triples_list)\n",
    "\n",
    "print(triples_list_for_graph)"
   ]
  },
  {
   "cell_type": "code",
   "execution_count": 16,
   "id": "c2d19a02",
   "metadata": {},
   "outputs": [
    {
     "name": "stdout",
     "output_type": "stream",
     "text": [
      "Warning: When  cdn_resources is 'local' jupyter notebook has issues displaying graphics on chrome/safari. Use cdn_resources='in_line' or cdn_resources='remote' if you have issues viewing graphics in a notebook.\n",
      "new_graph.html\n"
     ]
    },
    {
     "data": {
      "text/html": [
       "\n",
       "        <iframe\n",
       "            width=\"100%\"\n",
       "            height=\"600px\"\n",
       "            src=\"new_graph.html\"\n",
       "            frameborder=\"0\"\n",
       "            allowfullscreen\n",
       "            \n",
       "        ></iframe>\n",
       "        "
      ],
      "text/plain": [
       "<IPython.lib.display.IFrame at 0x14c875ea0>"
      ]
     },
     "execution_count": 16,
     "metadata": {},
     "output_type": "execute_result"
    }
   ],
   "source": [
    "# Create a directed graph\n",
    "G = nx.DiGraph()\n",
    "\n",
    "# Add edges to the graph\n",
    "for edge in triples_list_for_graph:\n",
    "    G.add_edge(edge[0], edge[2], title=edge[1])\n",
    "\n",
    "# Create a pyvis network\n",
    "net = Network(notebook=True)\n",
    "net.from_nx(G)\n",
    "\n",
    "# Show the graph\n",
    "net.show(\"new_graph.html\")\n",
    "\n",
    "\n"
   ]
  }
 ],
 "metadata": {
  "kernelspec": {
   "display_name": "chat",
   "language": "python",
   "name": "chat"
  },
  "language_info": {
   "codemirror_mode": {
    "name": "ipython",
    "version": 3
   },
   "file_extension": ".py",
   "mimetype": "text/x-python",
   "name": "python",
   "nbconvert_exporter": "python",
   "pygments_lexer": "ipython3",
   "version": "3.10.0"
  }
 },
 "nbformat": 4,
 "nbformat_minor": 5
}
